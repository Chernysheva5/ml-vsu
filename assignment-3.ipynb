{
 "cells": [
  {
   "cell_type": "code",
   "execution_count": 1,
   "metadata": {
    "ExecuteTime": {
     "end_time": "2017-11-21T02:07:33.514456",
     "start_time": "2017-11-21T02:07:33.510408"
    }
   },
   "outputs": [],
   "source": [
    "import pandas as pd"
   ]
  },
  {
   "cell_type": "code",
   "execution_count": 2,
   "metadata": {},
   "outputs": [],
   "source": [
    "data_path = 'data.csv'"
   ]
  },
  {
   "cell_type": "markdown",
   "metadata": {},
   "source": [
    "Читай данные с помощью __`read_csv()`__ и погнали!"
   ]
  },
  {
   "cell_type": "code",
   "execution_count": 3,
   "metadata": {
    "ExecuteTime": {
     "end_time": "2017-11-21T02:07:33.528688",
     "start_time": "2017-11-21T02:07:33.517863"
    }
   },
   "outputs": [
    {
     "data": {
      "text/html": [
       "<div>\n",
       "<style scoped>\n",
       "    .dataframe tbody tr th:only-of-type {\n",
       "        vertical-align: middle;\n",
       "    }\n",
       "\n",
       "    .dataframe tbody tr th {\n",
       "        vertical-align: top;\n",
       "    }\n",
       "\n",
       "    .dataframe thead th {\n",
       "        text-align: right;\n",
       "    }\n",
       "</style>\n",
       "<table border=\"1\" class=\"dataframe\">\n",
       "  <thead>\n",
       "    <tr style=\"text-align: right;\">\n",
       "      <th></th>\n",
       "      <th>Возраст</th>\n",
       "      <th>Пол</th>\n",
       "      <th>Состоит в браке</th>\n",
       "      <th>Иждивенцы</th>\n",
       "      <th>Доход</th>\n",
       "      <th>Опыт работы</th>\n",
       "      <th>Срок проживания</th>\n",
       "      <th>Недвижимость(кв.м.)</th>\n",
       "      <th>Месячный платеж</th>\n",
       "      <th>Благонадежный заемщик</th>\n",
       "    </tr>\n",
       "  </thead>\n",
       "  <tbody>\n",
       "    <tr>\n",
       "      <td>0</td>\n",
       "      <td>28.0</td>\n",
       "      <td>женский</td>\n",
       "      <td>Да</td>\n",
       "      <td>0.0</td>\n",
       "      <td>9000.0</td>\n",
       "      <td>9.0</td>\n",
       "      <td>7.0</td>\n",
       "      <td>0.0</td>\n",
       "      <td>3946.0</td>\n",
       "      <td>Нет</td>\n",
       "    </tr>\n",
       "    <tr>\n",
       "      <td>1</td>\n",
       "      <td>39.0</td>\n",
       "      <td>мужской</td>\n",
       "      <td>Да</td>\n",
       "      <td>1.0</td>\n",
       "      <td>13500.0</td>\n",
       "      <td>17.0</td>\n",
       "      <td>6.0</td>\n",
       "      <td>0.0</td>\n",
       "      <td>2460.0</td>\n",
       "      <td>Да</td>\n",
       "    </tr>\n",
       "    <tr>\n",
       "      <td>2</td>\n",
       "      <td>31.0</td>\n",
       "      <td>мужской</td>\n",
       "      <td>Нет</td>\n",
       "      <td>2.0</td>\n",
       "      <td>7000.0</td>\n",
       "      <td>11.0</td>\n",
       "      <td>3.0</td>\n",
       "      <td>0.0</td>\n",
       "      <td>3126.0</td>\n",
       "      <td>Нет</td>\n",
       "    </tr>\n",
       "    <tr>\n",
       "      <td>3</td>\n",
       "      <td>34.0</td>\n",
       "      <td>мужской</td>\n",
       "      <td>Нет</td>\n",
       "      <td>1.0</td>\n",
       "      <td>10200.0</td>\n",
       "      <td>15.0</td>\n",
       "      <td>2.0</td>\n",
       "      <td>41.0</td>\n",
       "      <td>3280.0</td>\n",
       "      <td>Да</td>\n",
       "    </tr>\n",
       "    <tr>\n",
       "      <td>4</td>\n",
       "      <td>46.0</td>\n",
       "      <td>женский</td>\n",
       "      <td>Да</td>\n",
       "      <td>2.0</td>\n",
       "      <td>8500.0</td>\n",
       "      <td>20.0</td>\n",
       "      <td>8.0</td>\n",
       "      <td>0.0</td>\n",
       "      <td>3348.0</td>\n",
       "      <td>Да</td>\n",
       "    </tr>\n",
       "  </tbody>\n",
       "</table>\n",
       "</div>"
      ],
      "text/plain": [
       "   Возраст      Пол Состоит в браке  Иждивенцы    Доход  Опыт работы  \\\n",
       "0     28.0  женский              Да        0.0   9000.0          9.0   \n",
       "1     39.0  мужской              Да        1.0  13500.0         17.0   \n",
       "2     31.0  мужской             Нет        2.0   7000.0         11.0   \n",
       "3     34.0  мужской             Нет        1.0  10200.0         15.0   \n",
       "4     46.0  женский              Да        2.0   8500.0         20.0   \n",
       "\n",
       "   Срок проживания  Недвижимость(кв.м.)  Месячный платеж Благонадежный заемщик  \n",
       "0              7.0                  0.0           3946.0                   Нет  \n",
       "1              6.0                  0.0           2460.0                    Да  \n",
       "2              3.0                  0.0           3126.0                   Нет  \n",
       "3              2.0                 41.0           3280.0                    Да  \n",
       "4              8.0                  0.0           3348.0                    Да  "
      ]
     },
     "execution_count": 3,
     "metadata": {},
     "output_type": "execute_result"
    }
   ],
   "source": [
    "df = pd.read_csv(data_path)\n",
    "df.head()"
   ]
  },
  {
   "cell_type": "markdown",
   "metadata": {},
   "source": [
    "<div class=\"panel panel-info\" style=\"margin: 50px 0 0 0\">\n",
    "    <div class=\"panel-heading\">\n",
    "        <h3 class=\"panel-title\">Задание 1: Причесываем колонки</h3> \n",
    "    </div>\n",
    "</div>\n",
    "\n",
    "Окей, мы прочитали данные, но с ними еще не совсем удобно работать!\n",
    "\n",
    "Прежде всего, __переименуй колонки__ так, чтобы они все были на старом-добром английском языке. Обычно предпочитают называть их __`likeThat`, `LikeThat`__ или __`like_that`__. Выбери что-то одно."
   ]
  },
  {
   "cell_type": "code",
   "execution_count": 4,
   "metadata": {},
   "outputs": [
    {
     "data": {
      "text/html": [
       "<div>\n",
       "<style scoped>\n",
       "    .dataframe tbody tr th:only-of-type {\n",
       "        vertical-align: middle;\n",
       "    }\n",
       "\n",
       "    .dataframe tbody tr th {\n",
       "        vertical-align: top;\n",
       "    }\n",
       "\n",
       "    .dataframe thead th {\n",
       "        text-align: right;\n",
       "    }\n",
       "</style>\n",
       "<table border=\"1\" class=\"dataframe\">\n",
       "  <thead>\n",
       "    <tr style=\"text-align: right;\">\n",
       "      <th></th>\n",
       "      <th>Age</th>\n",
       "      <th>Sex</th>\n",
       "      <th>Marriage</th>\n",
       "      <th>Dependents</th>\n",
       "      <th>Income</th>\n",
       "      <th>Experience</th>\n",
       "      <th>LengthOfStay</th>\n",
       "      <th>Reality</th>\n",
       "      <th>MonthlyPayment</th>\n",
       "      <th>Reliability</th>\n",
       "    </tr>\n",
       "  </thead>\n",
       "  <tbody>\n",
       "    <tr>\n",
       "      <td>0</td>\n",
       "      <td>28.0</td>\n",
       "      <td>женский</td>\n",
       "      <td>Да</td>\n",
       "      <td>0.0</td>\n",
       "      <td>9000.0</td>\n",
       "      <td>9.0</td>\n",
       "      <td>7.0</td>\n",
       "      <td>0.0</td>\n",
       "      <td>3946.0</td>\n",
       "      <td>Нет</td>\n",
       "    </tr>\n",
       "    <tr>\n",
       "      <td>1</td>\n",
       "      <td>39.0</td>\n",
       "      <td>мужской</td>\n",
       "      <td>Да</td>\n",
       "      <td>1.0</td>\n",
       "      <td>13500.0</td>\n",
       "      <td>17.0</td>\n",
       "      <td>6.0</td>\n",
       "      <td>0.0</td>\n",
       "      <td>2460.0</td>\n",
       "      <td>Да</td>\n",
       "    </tr>\n",
       "    <tr>\n",
       "      <td>2</td>\n",
       "      <td>31.0</td>\n",
       "      <td>мужской</td>\n",
       "      <td>Нет</td>\n",
       "      <td>2.0</td>\n",
       "      <td>7000.0</td>\n",
       "      <td>11.0</td>\n",
       "      <td>3.0</td>\n",
       "      <td>0.0</td>\n",
       "      <td>3126.0</td>\n",
       "      <td>Нет</td>\n",
       "    </tr>\n",
       "    <tr>\n",
       "      <td>3</td>\n",
       "      <td>34.0</td>\n",
       "      <td>мужской</td>\n",
       "      <td>Нет</td>\n",
       "      <td>1.0</td>\n",
       "      <td>10200.0</td>\n",
       "      <td>15.0</td>\n",
       "      <td>2.0</td>\n",
       "      <td>41.0</td>\n",
       "      <td>3280.0</td>\n",
       "      <td>Да</td>\n",
       "    </tr>\n",
       "    <tr>\n",
       "      <td>4</td>\n",
       "      <td>46.0</td>\n",
       "      <td>женский</td>\n",
       "      <td>Да</td>\n",
       "      <td>2.0</td>\n",
       "      <td>8500.0</td>\n",
       "      <td>20.0</td>\n",
       "      <td>8.0</td>\n",
       "      <td>0.0</td>\n",
       "      <td>3348.0</td>\n",
       "      <td>Да</td>\n",
       "    </tr>\n",
       "  </tbody>\n",
       "</table>\n",
       "</div>"
      ],
      "text/plain": [
       "    Age      Sex Marriage  Dependents   Income  Experience  LengthOfStay  \\\n",
       "0  28.0  женский       Да         0.0   9000.0         9.0           7.0   \n",
       "1  39.0  мужской       Да         1.0  13500.0        17.0           6.0   \n",
       "2  31.0  мужской      Нет         2.0   7000.0        11.0           3.0   \n",
       "3  34.0  мужской      Нет         1.0  10200.0        15.0           2.0   \n",
       "4  46.0  женский       Да         2.0   8500.0        20.0           8.0   \n",
       "\n",
       "   Reality  MonthlyPayment Reliability  \n",
       "0      0.0          3946.0         Нет  \n",
       "1      0.0          2460.0          Да  \n",
       "2      0.0          3126.0         Нет  \n",
       "3     41.0          3280.0          Да  \n",
       "4      0.0          3348.0          Да  "
      ]
     },
     "execution_count": 4,
     "metadata": {},
     "output_type": "execute_result"
    }
   ],
   "source": [
    "#df.columns\n",
    "new_columns = ['Age', 'Sex', 'Marriage', 'Dependents', 'Income', 'Experience', \n",
    "               'LengthOfStay', 'Reality', 'MonthlyPayment', 'Reliability']\n",
    "\n",
    "df.rename(columns={ old: new for old, new in zip(df.columns, new_columns) }, inplace=True)\n",
    "df.head()"
   ]
  },
  {
   "cell_type": "markdown",
   "metadata": {},
   "source": [
    "<div class=\"panel panel-info\" style=\"margin: 50px 0 0 0\">\n",
    "    <div class=\"panel-heading\">\n",
    "        <h3 class=\"panel-title\">Задание 2: Язык, понятный компуктору</h3> \n",
    "    </div>\n",
    "</div>\n",
    "\n",
    "Все русские слова - вон! Да, и значения в колонках в том числе. \n",
    "\n",
    "Замените все значения в колонках пола, признака состояния в браке и благонадежности на нули и единицы, раз уж уникальных значений в них не больше двух. __Подсказка:__ используй метод __`map()`__.\n",
    "\n",
    "Убедитесь, что у вас все получилось, вызвав __`value_counts()`__ у соответствующих колоночек. А потом и проверьте тип данных с помощью __`info()`__"
   ]
  },
  {
   "cell_type": "code",
   "execution_count": 5,
   "metadata": {},
   "outputs": [],
   "source": [
    "df.Sex = df.Sex.map({'мужской': 1, 'женский': 0})\n",
    "df.Marriage = df.Marriage.map({'Да': 1, 'Нет': 0})\n",
    "df.Reliability = df.Reliability.map({'Да': 1, 'Нет': 0})"
   ]
  },
  {
   "cell_type": "code",
   "execution_count": 6,
   "metadata": {},
   "outputs": [
    {
     "data": {
      "text/plain": [
       "1.0    650\n",
       "0.0    349\n",
       "Name: Sex, dtype: int64"
      ]
     },
     "execution_count": 6,
     "metadata": {},
     "output_type": "execute_result"
    }
   ],
   "source": [
    "df.Sex.value_counts()"
   ]
  },
  {
   "cell_type": "code",
   "execution_count": 7,
   "metadata": {},
   "outputs": [
    {
     "data": {
      "text/plain": [
       "1.0    590\n",
       "0.0    409\n",
       "Name: Marriage, dtype: int64"
      ]
     },
     "execution_count": 7,
     "metadata": {},
     "output_type": "execute_result"
    }
   ],
   "source": [
    "df.Marriage.value_counts()"
   ]
  },
  {
   "cell_type": "code",
   "execution_count": 8,
   "metadata": {},
   "outputs": [
    {
     "data": {
      "text/plain": [
       "0.0    507\n",
       "1.0    492\n",
       "Name: Reliability, dtype: int64"
      ]
     },
     "execution_count": 8,
     "metadata": {},
     "output_type": "execute_result"
    }
   ],
   "source": [
    "df.Reliability.value_counts()"
   ]
  },
  {
   "cell_type": "code",
   "execution_count": 9,
   "metadata": {},
   "outputs": [
    {
     "name": "stdout",
     "output_type": "stream",
     "text": [
      "<class 'pandas.core.frame.DataFrame'>\n",
      "RangeIndex: 1000 entries, 0 to 999\n",
      "Data columns (total 10 columns):\n",
      "Age               999 non-null float64\n",
      "Sex            999 non-null float64\n",
      "Marriage          999 non-null float64\n",
      "Dependents        999 non-null float64\n",
      "Income            999 non-null float64\n",
      "Experience        999 non-null float64\n",
      "LengthOfStay      999 non-null float64\n",
      "Reality           999 non-null float64\n",
      "MonthlyPayment    999 non-null float64\n",
      "Reliability       999 non-null float64\n",
      "dtypes: float64(10)\n",
      "memory usage: 78.2 KB\n"
     ]
    }
   ],
   "source": [
    "df.info()"
   ]
  },
  {
   "cell_type": "markdown",
   "metadata": {
    "ExecuteTime": {
     "end_time": "2017-11-15T01:04:37.820238",
     "start_time": "2017-11-15T01:04:37.803098"
    }
   },
   "source": [
    "<div class=\"panel panel-warning\" style=\"margin: 0 0 0 0\">\n",
    "    <div class=\"panel-heading\">\n",
    "        <h3 class=\"panel-title\">Бонус!</h3> \n",
    "    </div>\n",
    "</div>\n",
    "\n",
    "Удали строчку с __NaN__! Найди ее! И удали!"
   ]
  },
  {
   "cell_type": "code",
   "execution_count": 10,
   "metadata": {},
   "outputs": [],
   "source": [
    "df.dropna(inplace=True)"
   ]
  },
  {
   "cell_type": "markdown",
   "metadata": {},
   "source": [
    "<div class=\"panel panel-info\" style=\"margin: 50px 0 0 0\">\n",
    "    <div class=\"panel-heading\">\n",
    "        <h3 class=\"panel-title\">Задание 3: Новые колонки</h3> \n",
    "    </div>\n",
    "</div>\n",
    "\n",
    "Помнишь еще, как создаются новые колонки? Ну ничего, погуглишь.\n",
    "\n",
    "1. Сделай новую колонку __а-ля \"удар по бюджету\"__, значения в которой равны доле месячного платежа к величине дохода.\n",
    "2. Посчитай в новой колонке __а-ля \"размер семьи\"__, сколько у заемщика человек в семье, то есть количество иждивенцев + муж/жена (если таковые имеются). \n",
    "2. Считая, что деньги в семье распределяются абсолютно честно, сделай новую колонку __а-ля \"моя доля\"__, значения в которой равны доходу (чистому, учитывая ежемесячный платеж!), деленному на количество человек в семье.\n",
    "\n",
    "Вызови __.head()__ и полюбуйся в конце на результаты своей работы."
   ]
  },
  {
   "cell_type": "code",
   "execution_count": 11,
   "metadata": {},
   "outputs": [
    {
     "data": {
      "text/html": [
       "<div>\n",
       "<style scoped>\n",
       "    .dataframe tbody tr th:only-of-type {\n",
       "        vertical-align: middle;\n",
       "    }\n",
       "\n",
       "    .dataframe tbody tr th {\n",
       "        vertical-align: top;\n",
       "    }\n",
       "\n",
       "    .dataframe thead th {\n",
       "        text-align: right;\n",
       "    }\n",
       "</style>\n",
       "<table border=\"1\" class=\"dataframe\">\n",
       "  <thead>\n",
       "    <tr style=\"text-align: right;\">\n",
       "      <th></th>\n",
       "      <th>Age</th>\n",
       "      <th>Sex</th>\n",
       "      <th>Marriage</th>\n",
       "      <th>Dependents</th>\n",
       "      <th>Income</th>\n",
       "      <th>Experience</th>\n",
       "      <th>LengthOfStay</th>\n",
       "      <th>Reality</th>\n",
       "      <th>MonthlyPayment</th>\n",
       "      <th>Reliability</th>\n",
       "      <th>BudgetExpenses</th>\n",
       "      <th>FamilyCount</th>\n",
       "      <th>PartForOne</th>\n",
       "    </tr>\n",
       "  </thead>\n",
       "  <tbody>\n",
       "    <tr>\n",
       "      <td>0</td>\n",
       "      <td>28.0</td>\n",
       "      <td>0.0</td>\n",
       "      <td>1.0</td>\n",
       "      <td>0.0</td>\n",
       "      <td>9000.0</td>\n",
       "      <td>9.0</td>\n",
       "      <td>7.0</td>\n",
       "      <td>0.0</td>\n",
       "      <td>3946.0</td>\n",
       "      <td>0.0</td>\n",
       "      <td>0.44</td>\n",
       "      <td>1.0</td>\n",
       "      <td>5054.00</td>\n",
       "    </tr>\n",
       "    <tr>\n",
       "      <td>1</td>\n",
       "      <td>39.0</td>\n",
       "      <td>1.0</td>\n",
       "      <td>1.0</td>\n",
       "      <td>1.0</td>\n",
       "      <td>13500.0</td>\n",
       "      <td>17.0</td>\n",
       "      <td>6.0</td>\n",
       "      <td>0.0</td>\n",
       "      <td>2460.0</td>\n",
       "      <td>1.0</td>\n",
       "      <td>0.18</td>\n",
       "      <td>2.0</td>\n",
       "      <td>5520.00</td>\n",
       "    </tr>\n",
       "    <tr>\n",
       "      <td>2</td>\n",
       "      <td>31.0</td>\n",
       "      <td>1.0</td>\n",
       "      <td>0.0</td>\n",
       "      <td>2.0</td>\n",
       "      <td>7000.0</td>\n",
       "      <td>11.0</td>\n",
       "      <td>3.0</td>\n",
       "      <td>0.0</td>\n",
       "      <td>3126.0</td>\n",
       "      <td>0.0</td>\n",
       "      <td>0.45</td>\n",
       "      <td>2.0</td>\n",
       "      <td>1937.00</td>\n",
       "    </tr>\n",
       "    <tr>\n",
       "      <td>3</td>\n",
       "      <td>34.0</td>\n",
       "      <td>1.0</td>\n",
       "      <td>0.0</td>\n",
       "      <td>1.0</td>\n",
       "      <td>10200.0</td>\n",
       "      <td>15.0</td>\n",
       "      <td>2.0</td>\n",
       "      <td>41.0</td>\n",
       "      <td>3280.0</td>\n",
       "      <td>1.0</td>\n",
       "      <td>0.32</td>\n",
       "      <td>1.0</td>\n",
       "      <td>6920.00</td>\n",
       "    </tr>\n",
       "    <tr>\n",
       "      <td>4</td>\n",
       "      <td>46.0</td>\n",
       "      <td>0.0</td>\n",
       "      <td>1.0</td>\n",
       "      <td>2.0</td>\n",
       "      <td>8500.0</td>\n",
       "      <td>20.0</td>\n",
       "      <td>8.0</td>\n",
       "      <td>0.0</td>\n",
       "      <td>3348.0</td>\n",
       "      <td>1.0</td>\n",
       "      <td>0.39</td>\n",
       "      <td>3.0</td>\n",
       "      <td>1717.33</td>\n",
       "    </tr>\n",
       "  </tbody>\n",
       "</table>\n",
       "</div>"
      ],
      "text/plain": [
       "    Age     Sex  Marriage  Dependents   Income  Experience  LengthOfStay  \\\n",
       "0  28.0     0.0       1.0         0.0   9000.0         9.0           7.0   \n",
       "1  39.0     1.0       1.0         1.0  13500.0        17.0           6.0   \n",
       "2  31.0     1.0       0.0         2.0   7000.0        11.0           3.0   \n",
       "3  34.0     1.0       0.0         1.0  10200.0        15.0           2.0   \n",
       "4  46.0     0.0       1.0         2.0   8500.0        20.0           8.0   \n",
       "\n",
       "   Reality  MonthlyPayment  Reliability  BudgetExpenses  FamilyCount  \\\n",
       "0      0.0          3946.0          0.0            0.44          1.0   \n",
       "1      0.0          2460.0          1.0            0.18          2.0   \n",
       "2      0.0          3126.0          0.0            0.45          2.0   \n",
       "3     41.0          3280.0          1.0            0.32          1.0   \n",
       "4      0.0          3348.0          1.0            0.39          3.0   \n",
       "\n",
       "   PartForOne  \n",
       "0     5054.00  \n",
       "1     5520.00  \n",
       "2     1937.00  \n",
       "3     6920.00  \n",
       "4     1717.33  "
      ]
     },
     "execution_count": 11,
     "metadata": {},
     "output_type": "execute_result"
    }
   ],
   "source": [
    "df['BudgetExpenses'] = round(df.MonthlyPayment / df.Income, 2)\n",
    "df['FamilyCount'] = round(df.Marriage + df.Dependents, 2)\n",
    "df['PartForOne'] = round((df.Income - df.MonthlyPayment) / df.FamilyCount, 2)\n",
    "df.head()"
   ]
  },
  {
   "cell_type": "markdown",
   "metadata": {
    "ExecuteTime": {
     "end_time": "2017-11-15T01:04:37.820238",
     "start_time": "2017-11-15T01:04:37.803098"
    }
   },
   "source": [
    "<div class=\"panel panel-warning\" style=\"margin: 0 0 0 0\">\n",
    "    <div class=\"panel-heading\">\n",
    "        <h3 class=\"panel-title\">Бонус!</h3> \n",
    "    </div>\n",
    "</div>\n",
    "\n",
    "Удали один какой-нибудь ненужный столбец, если хочешь. Какой-нибудь бесполезный. Но лучше не надо."
   ]
  },
  {
   "cell_type": "markdown",
   "metadata": {},
   "source": [
    "<div class=\"panel panel-info\" style=\"margin: 50px 0 0 0\">\n",
    "    <div class=\"panel-heading\">\n",
    "        <h3 class=\"panel-title\">Задание 4: Время гуглить</h3> \n",
    "    </div>\n",
    "</div>\n",
    "\n",
    "В `pandas` есть функция под названием __`cut()`__, которая позволяет разбить значения признака на группы (или корзины), и присвоить каждой группе свою метку.\n",
    "\n",
    "Например, будет неплохой идеей разбить возраст на возрастные группы: до 18 лет, до 30 лет, до 50, до 99. И сделать новую колонку с соответствующей меткой. Можно, чтобы она была строкой, да.\n",
    "\n",
    "Как раз и вспомнишь, как новый столбец сделать.\n",
    "\n",
    "А потом посмотри на __`.value_counts()`__ этого столбца и сделай мудрые выводы."
   ]
  },
  {
   "cell_type": "code",
   "execution_count": 13,
   "metadata": {},
   "outputs": [
    {
     "data": {
      "text/plain": [
       "<matplotlib.axes._subplots.AxesSubplot at 0x1bd0ada7288>"
      ]
     },
     "execution_count": 13,
     "metadata": {},
     "output_type": "execute_result"
    },
    {
     "data": {
      "image/png": "[encoded data removed]",
      "text/plain": [
       "<Figure size 432x288 with 1 Axes>"
      ]
     },
     "metadata": {
      "needs_background": "light"
     },
     "output_type": "display_data"
    }
   ],
   "source": [
    "df['AgeGroup'] = pd.cut(df.Age, [0, 18, 30, 50, 99], labels=['Baby', 'Young', 'Adult', 'Eldest'])\n",
    "df.AgeGroup.value_counts().plot.bar(color = 'plum')"
   ]
  },
  {
   "cell_type": "markdown",
   "metadata": {},
   "source": [
    "<div class=\"panel panel-info\" style=\"margin: 50px 0 0 0\">\n",
    "    <div class=\"panel-heading\">\n",
    "        <h3 class=\"panel-title\">Задание 5: Время приключений</h3> \n",
    "    </div>\n",
    "</div>\n",
    "\n",
    "Кто тут data scientist? Ты data scientist!\n",
    "\n",
    "Докажи это! Исследуй данные вдоль и поперек!\n",
    "\n",
    "Группируй с помощью __`.groupby()`__ строки по полу, семейному статусу и всему другому, что приходит в голову, и считай статистики: средние и медианные доходы, квадратные метры и размеры семей. Не забывай учитывать и нашу целевую переменную - благонадежность - и задавать себе вопросы, например, вот такие:\n",
    "\n",
    "- *Правда ли, что чем больше у заемщика семья, тем большую сумму кредита он хочет получить?*\n",
    "- *Правда ли, что мужчины в среднем владеют большей площадью недвижимости?*\n",
    "- *Правда ли, что старшее поколение более надежно в деле выплат?*\n",
    "- *Правда ли, что молодые больше зарабатывают?*\n",
    "\n",
    "Вперед! Не подведи!"
   ]
  },
  {
   "cell_type": "code",
   "execution_count": 18,
   "metadata": {},
   "outputs": [
    {
     "name": "stdout",
     "output_type": "stream",
     "text": [
      "Зависимость кол-ва человек в семье и средней ежемесячной выплачиваемой суммы\n"
     ]
    },
    {
     "data": {
      "text/plain": [
       "<matplotlib.axes._subplots.AxesSubplot at 0x1bd0b3f5388>"
      ]
     },
     "execution_count": 18,
     "metadata": {},
     "output_type": "execute_result"
    },
    {
     "data": {
      "image/png": "[encoded data removed]",
      "text/plain": [
       "<Figure size 432x288 with 1 Axes>"
      ]
     },
     "metadata": {
      "needs_background": "light"
     },
     "output_type": "display_data"
    }
   ],
   "source": [
    "df['FamilyCountGroup'] = pd.cut(df.FamilyCount, [0, 1, 2, 3, 4, 5], \n",
    "                                   labels=['1', '2', '3', '4', '5'])\n",
    "print('Зависимость кол-ва человек в семье и средней ежемесячной выплачиваемой суммы')\n",
    "df.groupby('FamilyCountGroup').mean().MonthlyPayment.plot.bar(color = 'maroon')"
   ]
  },
  {
   "cell_type": "code",
   "execution_count": 29,
   "metadata": {},
   "outputs": [
    {
     "name": "stdout",
     "output_type": "stream",
     "text": [
      "Зависимость пола и средней площади недвижимости (0 - Жен, 1 - Муж)\n"
     ]
    },
    {
     "data": {
      "text/plain": [
       "<matplotlib.axes._subplots.AxesSubplot at 0x1bd0c8faec8>"
      ]
     },
     "execution_count": 29,
     "metadata": {},
     "output_type": "execute_result"
    },
    {
     "data": {
      "image/png": "[encoded data removed]",
      "text/plain": [
       "<Figure size 432x288 with 1 Axes>"
      ]
     },
     "metadata": {
      "needs_background": "light"
     },
     "output_type": "display_data"
    }
   ],
   "source": [
    "print('Зависимость пола и средней площади недвижимости (0 - Жен, 1 - Муж)')\n",
    "df.groupby('Sex').mean().Reality.plot.bar(color = 'navy')"
   ]
  },
  {
   "cell_type": "code",
   "execution_count": 34,
   "metadata": {},
   "outputs": [
    {
     "name": "stdout",
     "output_type": "stream",
     "text": [
      "Зависимость возрастной группы и надежности кредитора\n"
     ]
    },
    {
     "data": {
      "text/plain": [
       "<matplotlib.axes._subplots.AxesSubplot at 0x1bd0b076488>"
      ]
     },
     "execution_count": 34,
     "metadata": {},
     "output_type": "execute_result"
    },
    {
     "data": {
      "image/png": "[encoded data removed]",
      "text/plain": [
       "<Figure size 432x288 with 1 Axes>"
      ]
     },
     "metadata": {
      "needs_background": "light"
     },
     "output_type": "display_data"
    }
   ],
   "source": [
    "print('Зависимость возрастной группы и надежности кредитора')\n",
    "df.groupby('AgeGroup').mean().Reliability.plot.bar(color = 'gold')"
   ]
  },
  {
   "cell_type": "code",
   "execution_count": 35,
   "metadata": {},
   "outputs": [
    {
     "name": "stdout",
     "output_type": "stream",
     "text": [
      "Зависимость возрастной группы и зарплаты\n"
     ]
    },
    {
     "data": {
      "text/plain": [
       "<matplotlib.axes._subplots.AxesSubplot at 0x1bd0b193a88>"
      ]
     },
     "execution_count": 35,
     "metadata": {},
     "output_type": "execute_result"
    },
    {
     "data": {
      "image/png": "[encoded data removed]",
      "text/plain": [
       "<Figure size 432x288 with 1 Axes>"
      ]
     },
     "metadata": {
      "needs_background": "light"
     },
     "output_type": "display_data"
    }
   ],
   "source": [
    "print('Зависимость возрастной группы и зарплаты')\n",
    "df.groupby('AgeGroup').mean().Income.plot.bar(color = 'skyblue')"
   ]
  }
 ],
 "metadata": {
  "kernelspec": {
   "display_name": "Python 3",
   "language": "python",
   "name": "python3"
  },
  "language_info": {
   "codemirror_mode": {
    "name": "ipython",
    "version": 3
   },
   "file_extension": ".py",
   "mimetype": "text/x-python",
   "name": "python",
   "nbconvert_exporter": "python",
   "pygments_lexer": "ipython3",
   "version": "3.7.4"
  },
  "toc": {
   "colors": {
    "hover_highlight": "#DAA520",
    "running_highlight": "#FF0000",
    "selected_highlight": "#FFD700"
   },
   "moveMenuLeft": true,
   "nav_menu": {
    "height": "138px",
    "width": "252px"
   },
   "navigate_menu": true,
   "number_sections": false,
   "sideBar": true,
   "threshold": 4,
   "toc_cell": false,
   "toc_section_display": "block",
   "toc_window_display": false
  }
 },
 "nbformat": 4,
 "nbformat_minor": 4
}
